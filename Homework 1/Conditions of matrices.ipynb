{
 "cells": [
  {
   "cell_type": "markdown",
   "id": "1e92cdff",
   "metadata": {},
   "source": [
    "# Conditions of matrices  𝐴  and  𝑏  to be solvable \n",
    "\n",
    "This notebook shows which conditions should meet matrices  𝐴  and  𝑏  to be solvable from the least squares perspective.\n",
    "\n",
    "1. Overdetermined linear system\n",
    "2. Underdetermined solution\n",
    "3. Conditions of matrices  𝐴  and  𝑏  to be solvable  \n",
    "    "
   ]
  },
  {
   "cell_type": "markdown",
   "id": "348aec8a",
   "metadata": {},
   "source": [
    "### 1. Overdetermined linear system \n",
    "\n",
    "When our matrix is tall (number of rows greater than number of columns) we have an overdetermined line system.\n",
    "\n",
    "In this case `\\` find the least squares"
   ]
  },
  {
   "cell_type": "markdown",
   "id": "aa4929a5",
   "metadata": {},
   "source": [
    "First let's define a random matrix\n"
   ]
  },
  {
   "cell_type": "code",
   "execution_count": 1,
   "id": "312e85c3",
   "metadata": {},
   "outputs": [
    {
     "data": {
      "text/plain": [
       "3×2 Matrix{Float64}:\n",
       " 0.909718  0.404666\n",
       " 0.195061  0.446707\n",
       " 0.093293  0.750531"
      ]
     },
     "metadata": {},
     "output_type": "display_data"
    }
   ],
   "source": [
    "using LinearAlgebra\n",
    "\n",
    "Atall = rand(3, 2)\n",
    "display(Atall)"
   ]
  },
  {
   "cell_type": "markdown",
   "id": "743e3c3c",
   "metadata": {},
   "source": [
    "Define b vector"
   ]
  },
  {
   "cell_type": "code",
   "execution_count": 2,
   "id": "41cf01a2",
   "metadata": {},
   "outputs": [
    {
     "data": {
      "text/plain": [
       "3-element Vector{Int64}:\n",
       " 4\n",
       " 1\n",
       " 4"
      ]
     },
     "execution_count": 2,
     "metadata": {},
     "output_type": "execute_result"
    }
   ],
   "source": [
    "b = rand(1:4,3)"
   ]
  },
  {
   "cell_type": "code",
   "execution_count": 3,
   "id": "6531a452",
   "metadata": {},
   "outputs": [
    {
     "data": {
      "text/plain": [
       "2-element Vector{Float64}:\n",
       " 2.314357567447773\n",
       " 4.156918141598219"
      ]
     },
     "execution_count": 3,
     "metadata": {},
     "output_type": "execute_result"
    }
   ],
   "source": [
    "Atall\\b"
   ]
  },
  {
   "cell_type": "markdown",
   "id": "2c3bb57c",
   "metadata": {},
   "source": [
    "The `\\` function also works with rank-deficient least squares problem. In this case the solution is not unique and julia returns the value with the minimum norm.\n",
    "\n",
    "To create a rank-deficient least squares problem,let's create a rank-deficient matrix with linearly dependent columns."
   ]
  },
  {
   "cell_type": "code",
   "execution_count": 4,
   "id": "368bd599",
   "metadata": {},
   "outputs": [
    {
     "data": {
      "text/plain": [
       "3×2 Matrix{Float64}:\n",
       " 0.825344  0.825344\n",
       " 0.7987    0.7987\n",
       " 0.374291  0.374291"
      ]
     },
     "execution_count": 4,
     "metadata": {},
     "output_type": "execute_result"
    }
   ],
   "source": [
    "v = rand(3)\n",
    "rankdef = hcat(v, v)"
   ]
  },
  {
   "cell_type": "code",
   "execution_count": 5,
   "id": "4c4c5390",
   "metadata": {},
   "outputs": [
    {
     "data": {
      "text/plain": [
       "2-element Vector{Float64}:\n",
       " 1.9179034661695313\n",
       " 1.917903466169531"
      ]
     },
     "execution_count": 5,
     "metadata": {},
     "output_type": "execute_result"
    }
   ],
   "source": [
    "rankdef\\b"
   ]
  },
  {
   "cell_type": "markdown",
   "id": "cf0e8772",
   "metadata": {},
   "source": [
    "### 2. Underdetermined solution\n",
    "\n",
    "When our matrix is short (number of columns greater than number of rows) we have an Underdetermined solution.\n",
    "\n",
    "In this case `\\` find the least squares Julia gives us the minimum norm solution"
   ]
  },
  {
   "cell_type": "code",
   "execution_count": 6,
   "id": "d08f389e",
   "metadata": {},
   "outputs": [
    {
     "data": {
      "text/plain": [
       "2×3 Matrix{Float64}:\n",
       " 0.349279  0.833128  0.312801\n",
       " 0.876406  0.383051  0.646057"
      ]
     },
     "execution_count": 6,
     "metadata": {},
     "output_type": "execute_result"
    }
   ],
   "source": [
    "bshort = rand(2)\n",
    "Ashort = rand(2, 3)\n"
   ]
  },
  {
   "cell_type": "code",
   "execution_count": 7,
   "id": "a16c31eb",
   "metadata": {
    "scrolled": true
   },
   "outputs": [
    {
     "data": {
      "text/plain": [
       "3-element Vector{Float64}:\n",
       " 0.09117248710574254\n",
       " 0.2773701010409132\n",
       " 0.08652073457593895"
      ]
     },
     "execution_count": 7,
     "metadata": {},
     "output_type": "execute_result"
    }
   ],
   "source": [
    "Ashort\\bshort"
   ]
  },
  {
   "cell_type": "markdown",
   "id": "ef97ffb2",
   "metadata": {},
   "source": [
    "### 3. Conditions of matrices 𝐴 and 𝑏 to be solvable\n",
    "\n",
    "-This system has a solution if $b ∈ Span ( A )$, the column space of $A$, but normally this is not the case and we can only find an approximate solution.\n",
    "\n",
    "-If the columns of $A$ are linearly independent, then $A^TA$ is positive definite, i.e. $ϕ$ is strictly convex and the solution is unique. If the columns of $A$ are linearly independent, the solution $x^∗$ can be obtained solving the normal equation by the Cholesky factorization of $A^TA > 0$. However, $A^TA$ may be badly conditioned, and then the solution obtained this way can be useless. In finite arithmetic the QR-decomposition of $A$ is a more stable approach.\n",
    "\n",
    "-The orthogonal complement of the column space of a matrix $A ∈ R^{m,n}$  is the null space of $A^T$ .\n",
    "\n",
    "-Forming $A^TA$ squares the condition number of $A$. If $A$ is ill conditioned then $A^TA$ will be severely ill conditoned, Sometimes in applications $A$ does not have full rank.\n"
   ]
  },
  {
   "cell_type": "markdown",
   "id": "e9261681",
   "metadata": {},
   "source": [
    "Autor: Paola Gallegos Pinto, 1005257935, Universidad Nacional, Bogota Colombia, 2022 "
   ]
  },
  {
   "cell_type": "code",
   "execution_count": null,
   "id": "eea6c0fe",
   "metadata": {},
   "outputs": [],
   "source": []
  }
 ],
 "metadata": {
  "kernelspec": {
   "display_name": "Julia 1.7.2",
   "language": "julia",
   "name": "julia-1.7"
  },
  "language_info": {
   "file_extension": ".jl",
   "mimetype": "application/julia",
   "name": "julia",
   "version": "1.7.2"
  }
 },
 "nbformat": 4,
 "nbformat_minor": 5
}
