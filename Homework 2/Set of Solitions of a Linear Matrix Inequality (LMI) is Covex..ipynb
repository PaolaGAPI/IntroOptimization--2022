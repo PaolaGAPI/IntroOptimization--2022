{
 "cells": [
  {
   "cell_type": "markdown",
   "id": "d7ab26c0",
   "metadata": {},
   "source": [
    "# Set of Solitions of a Linear Matrix Inequality (LMI) is Covex.\n",
    "\n",
    "Verify that the solution set of a set of inequalities of linear matrices is convex."
   ]
  },
  {
   "cell_type": "markdown",
   "id": "29d9d324",
   "metadata": {},
   "source": [
    "A Linear Matrix Inequality (LMI) is one of the form:\n",
    "$$L(x) ⪯ 0$$\n",
    "The set of solutions;\n",
    "$$L(x):=x_1L_1+⋯+x_nL_n⪯B$$\n",
    "\n",
    "where $L_1,…,L_n,B∈𝕊^m$, is called an LMI in 𝑥\n"
   ]
  },
  {
   "cell_type": "markdown",
   "id": "35ff6752",
   "metadata": {},
   "source": [
    "The affine function is $T(x)=B−𝑥_1L_1−⋯−x_nL_n$.\n",
    "\n",
    "The solution set to your LMI can be described as \n",
    "\n",
    "$$\\left\\lbrace x∣T(x)⪰ 0 = T^{−1}(S^m_+) \\right\\rbrace$$\n",
    "\n",
    "where $S^m_+$ is the positive semidefinite cone in $ℝ^{m×m}$.\n"
   ]
  },
  {
   "cell_type": "code",
   "execution_count": null,
   "id": "f48cb80a",
   "metadata": {},
   "outputs": [],
   "source": []
  }
 ],
 "metadata": {
  "kernelspec": {
   "display_name": "Python 3 (ipykernel)",
   "language": "python",
   "name": "python3"
  },
  "language_info": {
   "codemirror_mode": {
    "name": "ipython",
    "version": 3
   },
   "file_extension": ".py",
   "mimetype": "text/x-python",
   "name": "python",
   "nbconvert_exporter": "python",
   "pygments_lexer": "ipython3",
   "version": "3.9.7"
  }
 },
 "nbformat": 4,
 "nbformat_minor": 5
}
